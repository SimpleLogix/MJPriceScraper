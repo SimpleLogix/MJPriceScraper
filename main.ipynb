{
 "cells": [
  {
   "cell_type": "markdown",
   "metadata": {},
   "source": [
    "# MJ Price Scraper Tool"
   ]
  },
  {
   "cell_type": "markdown",
   "metadata": {},
   "source": [
    "**TO DO:**\n",
    "\n",
    "- ❌ Clean Berkshire script (60 seconds atm)\n",
    "- ✅ Add sanctuary script\n",
    "- ✨ Begin log exports\n",
    "- ❌ Add edibles\n",
    "- ❌ Specials\n",
    "- ❌ Home blurbs"
   ]
  },
  {
   "cell_type": "markdown",
   "metadata": {},
   "source": [
    "### Imports"
   ]
  },
  {
   "cell_type": "code",
   "execution_count": 1,
   "metadata": {},
   "outputs": [],
   "source": [
    "# python imports\n",
    "import requests\n",
    "import time\n",
    "import re\n",
    "import json \n",
    "\n",
    "# selenium imports\n",
    "from selenium import webdriver\n",
    "from selenium.webdriver.chrome.options import Options\n",
    "from selenium.webdriver.common.by import By\n",
    "\n",
    "# dispo library imports\n",
    "from lib.dispos.Berkshire import scrapeBerkshire\n",
    "from lib.dispos.Mission import scrapeMission\n",
    "from lib.dispos.IHJ import scrapeIHJ"
   ]
  },
  {
   "cell_type": "markdown",
   "metadata": {},
   "source": [
    "### Definitions"
   ]
  },
  {
   "cell_type": "code",
   "execution_count": 2,
   "metadata": {},
   "outputs": [],
   "source": [
    "# List of dispensaries to scrape and preset filters to pick from\n",
    "dispos = {\n",
    "    \"Sanctuary Meds\" : \"https://www.iheartjane.com/stores/1990/sanctuary-brookline\",\n",
    "    \"Berkshire Roots\" : \"https://dutchie.com/dispensary/berkshire-roots-east-boston\",\n",
    "    \"Mission Brookline\" : \"https://dutchie.com/dispensary/mission-brookline\",\n",
    "    \"NETA\" : \"https://dutchie.com/dispensary/neta-brookline\",\n",
    "    \"Western Front\" : \"https://dutchie.com/dispensary/western-front1\",\n",
    "    \"MedMen\" : \"https://dutchie.com/dispensary/medmen-fenway\",\n",
    "    \"Rise\" : \"https://dutchie.com/dispensary/greenstar-herbals-inc-chelsea\",\n",
    "    \"Happy Valley\" : \"https://dutchie.com/dispensary/happy-valley-east-boston\",\n",
    "    \"Pure Oasis\" : \"https://dutchie.com/dispensary/pure-oasis1\",\n",
    "    \"Ayr\" : \"https://dutchie.com/dispensary/ayr-dispensary-back-bay\"\n",
    "}\n",
    "\n",
    "# filters available to choose from\n",
    "filters = {\n",
    "    \"Wax\" : \"/products/concentrates?sortby=pricelowtohigh\",\n",
    "    \"Flower\" : \"/products/flower?potencycbd=0%2C50&potencythc=0%2C50&sortby=pricelowtohigh\",\n",
    "    \"Carts\" : \"/products/vaporizers?sortby=pricelowtohigh\"\n",
    "}\n",
    "\n",
    "IHJ_filters = {\n",
    "    \"Wax\" : \"?refinementList%5Broot_types%5D%5B0%5D=extract&sortBy=menu-products-by-price-production\"\n",
    "}\n",
    "\n",
    "# Current filter\n",
    "filter = filters[\"Flower\"]"
   ]
  },
  {
   "cell_type": "markdown",
   "metadata": {},
   "source": [
    "## WebDriver"
   ]
  },
  {
   "cell_type": "code",
   "execution_count": 3,
   "metadata": {},
   "outputs": [],
   "source": [
    "# Session options\n",
    "options = Options()\n",
    "options.page_load_strategy = 'normal'\n",
    "options = webdriver.ChromeOptions()\n",
    "\n",
    "#Load session\n",
    "#options.add_argument('--headless')\n",
    "options.add_argument('--no-sandbox')\n",
    "options.add_argument('--disable-dev-shm-usage')"
   ]
  },
  {
   "cell_type": "code",
   "execution_count": 4,
   "metadata": {},
   "outputs": [],
   "source": [
    "# Start Session\n",
    "driver = webdriver.Chrome(options=options)\n",
    "driver.minimize_window()"
   ]
  },
  {
   "cell_type": "markdown",
   "metadata": {},
   "source": [
    "## Script"
   ]
  },
  {
   "cell_type": "markdown",
   "metadata": {},
   "source": [
    "#### Scrape data"
   ]
  },
  {
   "cell_type": "code",
   "execution_count": 5,
   "metadata": {},
   "outputs": [
    {
     "name": "stdout",
     "output_type": "stream",
     "text": [
      "0 products scraped from Mission! \n",
      " 0 products not scraped\n",
      "\n",
      "0 products scraped from Mission! \n",
      " 0 products not scraped\n",
      "\n",
      "0 products scraped from Mission! \n",
      " 0 products not scraped\n",
      "\n",
      "Product scrape failed from Berkshire\n",
      "Product scrape failed from Berkshire\n",
      "Product scrape failed from Berkshire\n",
      "Product scrape failed from Berkshire\n",
      "Product scrape failed from Berkshire\n",
      "Product scrape failed from Berkshire\n",
      "Product scrape failed from Berkshire\n",
      "Product scrape failed from Berkshire\n",
      "Product scrape failed from Berkshire\n",
      "Product scrape failed from Berkshire\n",
      "Product scrape failed from Berkshire\n",
      "Product scrape failed from Berkshire\n",
      "Product scrape failed from Berkshire\n",
      "Product scrape failed from Berkshire\n",
      "Product scrape failed from Berkshire\n",
      "Product scrape failed from Berkshire\n",
      "Product scrape failed from Berkshire\n",
      "Product scrape failed from Berkshire\n",
      "Product scrape failed from Berkshire\n",
      "Product scrape failed from Berkshire\n",
      "Product scrape failed from Berkshire\n",
      "0 products scraped from Berkshire! \n",
      " 21 products not scraped\n",
      "\n"
     ]
    },
    {
     "ename": "NoSuchElementException",
     "evalue": "Message: no such element: Unable to locate element: {\"method\":\"tag name\",\"selector\":\"main\"}\n  (Session info: chrome=106.0.5249.119)\nStacktrace:\nBacktrace:\n\tOrdinal0 [0x0095DF13+2219795]\n\tOrdinal0 [0x008F2841+1779777]\n\tOrdinal0 [0x0080423D+803389]\n\tOrdinal0 [0x00833025+995365]\n\tOrdinal0 [0x008331EB+995819]\n\tOrdinal0 [0x00860F52+1183570]\n\tOrdinal0 [0x0084E844+1108036]\n\tOrdinal0 [0x0085F192+1175954]\n\tOrdinal0 [0x0084E616+1107478]\n\tOrdinal0 [0x00827F89+950153]\n\tOrdinal0 [0x00828F56+954198]\n\tGetHandleVerifier [0x00C52CB2+3040210]\n\tGetHandleVerifier [0x00C42BB4+2974420]\n\tGetHandleVerifier [0x009F6A0A+565546]\n\tGetHandleVerifier [0x009F5680+560544]\n\tOrdinal0 [0x008F9A5C+1808988]\n\tOrdinal0 [0x008FE3A8+1827752]\n\tOrdinal0 [0x008FE495+1827989]\n\tOrdinal0 [0x009080A4+1867940]\n\tBaseThreadInitThunk [0x778A7BA9+25]\n\tRtlInitializeExceptionChain [0x77E3BB9B+107]\n\tRtlClearBits [0x77E3BB1F+191]\n",
     "output_type": "error",
     "traceback": [
      "\u001b[1;31m---------------------------------------------------------------------------\u001b[0m",
      "\u001b[1;31mNoSuchElementException\u001b[0m                    Traceback (most recent call last)",
      "\u001b[1;32mc:\\Users\\walid\\projects\\MJPriceScraper\\main.ipynb Cell 12\u001b[0m in \u001b[0;36m<cell line: 8>\u001b[1;34m()\u001b[0m\n\u001b[0;32m      <a href='vscode-notebook-cell:/c%3A/Users/walid/projects/MJPriceScraper/main.ipynb#X14sZmlsZQ%3D%3D?line=5'>6</a>\u001b[0m \u001b[39m# Berkshire Roots\u001b[39;00m\n\u001b[0;32m      <a href='vscode-notebook-cell:/c%3A/Users/walid/projects/MJPriceScraper/main.ipynb#X14sZmlsZQ%3D%3D?line=6'>7</a>\u001b[0m br1 \u001b[39m=\u001b[39m scrapeBerkshire(driver, filters[\u001b[39m\"\u001b[39m\u001b[39mCarts\u001b[39m\u001b[39m\"\u001b[39m])\n\u001b[1;32m----> <a href='vscode-notebook-cell:/c%3A/Users/walid/projects/MJPriceScraper/main.ipynb#X14sZmlsZQ%3D%3D?line=7'>8</a>\u001b[0m br2 \u001b[39m=\u001b[39m scrapeBerkshire(driver, filters[\u001b[39m\"\u001b[39;49m\u001b[39mFlower\u001b[39;49m\u001b[39m\"\u001b[39;49m])\n\u001b[0;32m      <a href='vscode-notebook-cell:/c%3A/Users/walid/projects/MJPriceScraper/main.ipynb#X14sZmlsZQ%3D%3D?line=8'>9</a>\u001b[0m br3 \u001b[39m=\u001b[39m scrapeBerkshire(driver, filters[\u001b[39m\"\u001b[39m\u001b[39mWax\u001b[39m\u001b[39m\"\u001b[39m])\n\u001b[0;32m     <a href='vscode-notebook-cell:/c%3A/Users/walid/projects/MJPriceScraper/main.ipynb#X14sZmlsZQ%3D%3D?line=9'>10</a>\u001b[0m \u001b[39m#b4 = scrapeBerkshire(driver, filters[\"Edibles\"]) #TODO: Add to filters and test\u001b[39;00m\n",
      "File \u001b[1;32mc:\\Users\\walid\\projects\\MJPriceScraper\\lib\\dispos\\Berkshire.py:30\u001b[0m, in \u001b[0;36mscrapeBerkshire\u001b[1;34m(driver, filter)\u001b[0m\n\u001b[0;32m     27\u001b[0m     scheight \u001b[39m+\u001b[39m\u001b[39m=\u001b[39m \u001b[39m.0075\u001b[39m\n\u001b[0;32m     29\u001b[0m \u001b[39m# Main element with all products\u001b[39;00m\n\u001b[1;32m---> 30\u001b[0m main_element \u001b[39m=\u001b[39m driver\u001b[39m.\u001b[39;49mfind_element(By\u001b[39m.\u001b[39;49mTAG_NAME, \u001b[39m\"\u001b[39;49m\u001b[39mmain\u001b[39;49m\u001b[39m\"\u001b[39;49m)\n\u001b[0;32m     32\u001b[0m \u001b[39m# Searching for the product lists\u001b[39;00m\n\u001b[0;32m     33\u001b[0m element_products \u001b[39m=\u001b[39m main_element\u001b[39m.\u001b[39mfind_element(By\u001b[39m.\u001b[39mCLASS_NAME, \u001b[39m\"\u001b[39m\u001b[39mproduct-list__Container-sc-1arkwfu-1\u001b[39m\u001b[39m\"\u001b[39m)\n",
      "File \u001b[1;32m~\\AppData\\Local\\Packages\\PythonSoftwareFoundation.Python.3.10_qbz5n2kfra8p0\\LocalCache\\local-packages\\Python310\\site-packages\\selenium\\webdriver\\remote\\webdriver.py:855\u001b[0m, in \u001b[0;36mWebDriver.find_element\u001b[1;34m(self, by, value)\u001b[0m\n\u001b[0;32m    852\u001b[0m     by \u001b[39m=\u001b[39m By\u001b[39m.\u001b[39mCSS_SELECTOR\n\u001b[0;32m    853\u001b[0m     value \u001b[39m=\u001b[39m \u001b[39m'\u001b[39m\u001b[39m[name=\u001b[39m\u001b[39m\"\u001b[39m\u001b[39m%s\u001b[39;00m\u001b[39m\"\u001b[39m\u001b[39m]\u001b[39m\u001b[39m'\u001b[39m \u001b[39m%\u001b[39m value\n\u001b[1;32m--> 855\u001b[0m \u001b[39mreturn\u001b[39;00m \u001b[39mself\u001b[39;49m\u001b[39m.\u001b[39;49mexecute(Command\u001b[39m.\u001b[39;49mFIND_ELEMENT, {\n\u001b[0;32m    856\u001b[0m     \u001b[39m'\u001b[39;49m\u001b[39musing\u001b[39;49m\u001b[39m'\u001b[39;49m: by,\n\u001b[0;32m    857\u001b[0m     \u001b[39m'\u001b[39;49m\u001b[39mvalue\u001b[39;49m\u001b[39m'\u001b[39;49m: value})[\u001b[39m'\u001b[39m\u001b[39mvalue\u001b[39m\u001b[39m'\u001b[39m]\n",
      "File \u001b[1;32m~\\AppData\\Local\\Packages\\PythonSoftwareFoundation.Python.3.10_qbz5n2kfra8p0\\LocalCache\\local-packages\\Python310\\site-packages\\selenium\\webdriver\\remote\\webdriver.py:428\u001b[0m, in \u001b[0;36mWebDriver.execute\u001b[1;34m(self, driver_command, params)\u001b[0m\n\u001b[0;32m    426\u001b[0m response \u001b[39m=\u001b[39m \u001b[39mself\u001b[39m\u001b[39m.\u001b[39mcommand_executor\u001b[39m.\u001b[39mexecute(driver_command, params)\n\u001b[0;32m    427\u001b[0m \u001b[39mif\u001b[39;00m response:\n\u001b[1;32m--> 428\u001b[0m     \u001b[39mself\u001b[39;49m\u001b[39m.\u001b[39;49merror_handler\u001b[39m.\u001b[39;49mcheck_response(response)\n\u001b[0;32m    429\u001b[0m     response[\u001b[39m'\u001b[39m\u001b[39mvalue\u001b[39m\u001b[39m'\u001b[39m] \u001b[39m=\u001b[39m \u001b[39mself\u001b[39m\u001b[39m.\u001b[39m_unwrap_value(\n\u001b[0;32m    430\u001b[0m         response\u001b[39m.\u001b[39mget(\u001b[39m'\u001b[39m\u001b[39mvalue\u001b[39m\u001b[39m'\u001b[39m, \u001b[39mNone\u001b[39;00m))\n\u001b[0;32m    431\u001b[0m     \u001b[39mreturn\u001b[39;00m response\n",
      "File \u001b[1;32m~\\AppData\\Local\\Packages\\PythonSoftwareFoundation.Python.3.10_qbz5n2kfra8p0\\LocalCache\\local-packages\\Python310\\site-packages\\selenium\\webdriver\\remote\\errorhandler.py:243\u001b[0m, in \u001b[0;36mErrorHandler.check_response\u001b[1;34m(self, response)\u001b[0m\n\u001b[0;32m    241\u001b[0m         alert_text \u001b[39m=\u001b[39m value[\u001b[39m'\u001b[39m\u001b[39malert\u001b[39m\u001b[39m'\u001b[39m]\u001b[39m.\u001b[39mget(\u001b[39m'\u001b[39m\u001b[39mtext\u001b[39m\u001b[39m'\u001b[39m)\n\u001b[0;32m    242\u001b[0m     \u001b[39mraise\u001b[39;00m exception_class(message, screen, stacktrace, alert_text)  \u001b[39m# type: ignore[call-arg]  # mypy is not smart enough here\u001b[39;00m\n\u001b[1;32m--> 243\u001b[0m \u001b[39mraise\u001b[39;00m exception_class(message, screen, stacktrace)\n",
      "\u001b[1;31mNoSuchElementException\u001b[0m: Message: no such element: Unable to locate element: {\"method\":\"tag name\",\"selector\":\"main\"}\n  (Session info: chrome=106.0.5249.119)\nStacktrace:\nBacktrace:\n\tOrdinal0 [0x0095DF13+2219795]\n\tOrdinal0 [0x008F2841+1779777]\n\tOrdinal0 [0x0080423D+803389]\n\tOrdinal0 [0x00833025+995365]\n\tOrdinal0 [0x008331EB+995819]\n\tOrdinal0 [0x00860F52+1183570]\n\tOrdinal0 [0x0084E844+1108036]\n\tOrdinal0 [0x0085F192+1175954]\n\tOrdinal0 [0x0084E616+1107478]\n\tOrdinal0 [0x00827F89+950153]\n\tOrdinal0 [0x00828F56+954198]\n\tGetHandleVerifier [0x00C52CB2+3040210]\n\tGetHandleVerifier [0x00C42BB4+2974420]\n\tGetHandleVerifier [0x009F6A0A+565546]\n\tGetHandleVerifier [0x009F5680+560544]\n\tOrdinal0 [0x008F9A5C+1808988]\n\tOrdinal0 [0x008FE3A8+1827752]\n\tOrdinal0 [0x008FE495+1827989]\n\tOrdinal0 [0x009080A4+1867940]\n\tBaseThreadInitThunk [0x778A7BA9+25]\n\tRtlInitializeExceptionChain [0x77E3BB9B+107]\n\tRtlClearBits [0x77E3BB1F+191]\n"
     ]
    }
   ],
   "source": [
    "\n",
    "# Mission Brookline\n",
    "mb1 = scrapeMission(driver, filters[\"Carts\"])\n",
    "mb2 = scrapeMission(driver, filters[\"Flower\"])\n",
    "mb3 = scrapeMission(driver, filters[\"Wax\"])\n",
    "\n",
    "# Berkshire Roots\n",
    "br1 = scrapeBerkshire(driver, filters[\"Carts\"])\n",
    "br2 = scrapeBerkshire(driver, filters[\"Flower\"])\n",
    "br3 = scrapeBerkshire(driver, filters[\"Wax\"])\n",
    "#b4 = scrapeBerkshire(driver, filters[\"Edibles\"]) #TODO: Add to filters and test\n",
    "\n",
    "ihj = scrapeIHJ(driver, dispos[\"Sanctuary Meds\"] , IHJ_filters[\"Wax\"])\n",
    "\n"
   ]
  },
  {
   "cell_type": "markdown",
   "metadata": {},
   "source": [
    "#### Clean Data"
   ]
  },
  {
   "cell_type": "code",
   "execution_count": null,
   "metadata": {},
   "outputs": [],
   "source": [
    "products = mb1 + mb2 + mb3 +\\\n",
    "           br1 + br2 + br3 +\\\n",
    "           ihj"
   ]
  }
 ],
 "metadata": {
  "kernelspec": {
   "display_name": "Python 3.10.8 64-bit (microsoft store)",
   "language": "python",
   "name": "python3"
  },
  "language_info": {
   "codemirror_mode": {
    "name": "ipython",
    "version": 3
   },
   "file_extension": ".py",
   "mimetype": "text/x-python",
   "name": "python",
   "nbconvert_exporter": "python",
   "pygments_lexer": "ipython3",
   "version": "3.10.8"
  },
  "orig_nbformat": 4,
  "vscode": {
   "interpreter": {
    "hash": "5896eaaea9cfda5f2dfd8f6cd191f6f35a93afed143d79e2a6afd278becd1866"
   }
  }
 },
 "nbformat": 4,
 "nbformat_minor": 2
}
