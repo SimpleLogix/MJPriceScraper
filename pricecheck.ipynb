{
 "cells": [
  {
   "cell_type": "code",
   "execution_count": 236,
   "metadata": {},
   "outputs": [],
   "source": [
    "# Imports\n",
    "import requests\n",
    "import time\n",
    "from bs4 import BeautifulSoup\n",
    "from selenium import webdriver\n",
    "from selenium.webdriver.chrome.options import Options\n",
    "from selenium.webdriver.common.by import By\n",
    "\n",
    "# Irrelevant variables\n",
    "dispos = {\n",
    "    \"Berkshire Roots\" : \"https://dutchie.com/dispensary/berkshire-roots-east-boston\",\n",
    "    \"Mission Brookline\" : \"https://dutchie.com/dispensary/mission-brookline\",\n",
    "    \"NETA\" : \"https://dutchie.com/dispensary/neta-brookline\",\n",
    "    \"Western Front\" : \"https://dutchie.com/dispensary/western-front1\",\n",
    "    \"MedMen\" : \"https://dutchie.com/dispensary/medmen-fenway\",\n",
    "    \"Rise\" : \"https://dutchie.com/dispensary/greenstar-herbals-inc-chelsea\",\n",
    "    \"Happy Valley\" : \"https://dutchie.com/dispensary/happy-valley-east-boston\",\n",
    "    \"Pure Oasis\" : \"https://dutchie.com/dispensary/pure-oasis1\",\n",
    "    \"Ayr\" : \"https://dutchie.com/dispensary/ayr-dispensary-back-bay\"\n",
    "}\n",
    "\n",
    "filters = {\n",
    "    \"Concentrate, Ascending Price\" : \"/products/concentrates?sortby=pricelowtohigh\"\n",
    "}\n"
   ]
  },
  {
   "cell_type": "code",
   "execution_count": 237,
   "metadata": {},
   "outputs": [],
   "source": [
    "# Session options\n",
    "options = Options()\n",
    "options.page_load_strategy = 'normal'\n",
    "driver = webdriver.Chrome(options=options)\n"
   ]
  },
  {
   "cell_type": "code",
   "execution_count": 238,
   "metadata": {},
   "outputs": [],
   "source": [
    "# Product class w/ attrs.\n",
    "class Product:\n",
    "  def __init__(self, name, company, type, thc, weight, price, oldprice, discount, dispo):\n",
    "    self.name = name\n",
    "    self.company = company\n",
    "    self.type = type\n",
    "    self.thc = thc\n",
    "    self.weight = weight\n",
    "    self.price = price\n",
    "    self.oldprice = oldprice\n",
    "    self.discount = discount\n",
    "    self.dispo = dispo\n",
    "    "
   ]
  },
  {
   "cell_type": "code",
   "execution_count": 239,
   "metadata": {},
   "outputs": [],
   "source": [
    "# Scrapes URL and returns the main element containing products and prod info\n",
    "def scrapeURL(driver, dispo):\n",
    "\n",
    "    # Connect to URL\n",
    "    filterURL = dispos[dispo] + filters[\"Concentrate, Ascending Price\"]\n",
    "    driver.get(filterURL)\n",
    "    driver.implicitly_wait(1.5)\n",
    "    #time.sleep(5)\n",
    "\n",
    "    # Age verification\n",
    "    \n",
    "    try:\n",
    "        driver.find_element(By.CLASS_NAME, \"age-confirmation-modal__StyledButton-di8wrk-0\").click()\n",
    "    except:\n",
    "        print(\"\")\n",
    "\n",
    "\n",
    "    # Smooth scroll to scrub ALL data\n",
    "    scheight = .1\n",
    "    while scheight < 9.9:\n",
    "        driver.execute_script(\"window.scrollTo(0, document.body.scrollHeight/%s);\" % scheight)\n",
    "        scheight += .01\n",
    "\n",
    "    # Main element with all products\n",
    "    main_element = driver.find_element(By.TAG_NAME, \"main\")\n",
    "    \n",
    "    # Searching for the product lists\n",
    "    element_products = main_element.find_element(By.CLASS_NAME, \"product-list__Container-sc-1arkwfu-1\")\n",
    "    element_div = element_products.find_element(By.TAG_NAME, \"div\")\n",
    "    element_prod_list = element_div.find_elements(By.CLASS_NAME, \"mobile-product-list-item__Container-zxgt1n-0\")\n",
    "    prod_list = element_prod_list[1:len(element_prod_list)-1]\n",
    "\n",
    "    # Parsing the list into organized Product class\n",
    "    products = []\n",
    "    for element in prod_list:\n",
    "        data = element.text.split(\"\\n\")\n",
    "        if (len(data) == 7):   # Discounted Product\n",
    "            p = Product(data[0], data[1], data[2], data[2], data[3], data[5], data[4], data[6], dispo)\n",
    "            products.append(p)\n",
    "        elif (len(data) == 6): # Staff Pick Product\n",
    "            p = Product(data[1], data[2], data[3], data[3], data[4], data[5], data[5], \"0%\", dispo)\n",
    "            products.append(p)\n",
    "        elif (len(data) == 5): # Regular Product\n",
    "            p = Product(data[0], data[1], data[2], data[2], data[3], data[4], data[4], \"0%\", dispo)\n",
    "            products.append(p)\n",
    "    \n",
    "    print(len(products), \"products scraped from\", dispo)\n",
    "    return products"
   ]
  },
  {
   "cell_type": "code",
   "execution_count": 242,
   "metadata": {},
   "outputs": [
    {
     "name": "stdout",
     "output_type": "stream",
     "text": [
      "\n",
      "84 products scraped from Berkshire Roots\n",
      "\n",
      "33 products scraped from Mission Brookline\n",
      "\n",
      "26 products scraped from NETA\n",
      "\n",
      "6 products scraped from Western Front\n",
      "\n",
      "6 products scraped from MedMen\n",
      "\n",
      "12 products scraped from Rise\n",
      "\n",
      "20 products scraped from Happy Valley\n",
      "\n",
      "11 products scraped from Pure Oasis\n",
      "\n",
      "65 products scraped from Ayr\n"
     ]
    }
   ],
   "source": [
    "products = []\n",
    "for dispo in dispos:\n",
    "    dispo_products = scrapeURL(driver, dispo)\n",
    "    products.extend(dispo_products)"
   ]
  },
  {
   "cell_type": "code",
   "execution_count": 251,
   "metadata": {},
   "outputs": [
    {
     "name": "stdout",
     "output_type": "stream",
     "text": [
      "263\n",
      "Snowdog Kief | 1g - Essentials $19.96 1g - Berkshire Roots\n",
      "Deep 6 #55 LIVE Badder | .5g - Signature $25.46 .5g - Berkshire Roots\n",
      "Grand Daddy Purple LIVE Badder | .5g - Signature $25.46 .5g - Berkshire Roots\n",
      "Snowdog LIVE Sugar | .5g - Signature $25.46 .5g - Berkshire Roots\n",
      "Zombie Virus LIVE Badder | .5g - Signature $25.46 .5g - Berkshire Roots\n",
      "Grand Daddy Purple Badder | .5g - Signature $27.16 .5g - Berkshire Roots\n",
      "Zombie Virus Badder | .5g - Signature $27.16 .5g - Berkshire Roots\n",
      "Great White Shark Sugar Wax | 1g - Signature $47.16 1g - Berkshire Roots\n",
      "Zombie Virus Badder | 1g - Signature $47.16 1g - Berkshire Roots\n",
      "THC Distillate Applicator| 1g - Basics $48.97 1g - Berkshire Roots\n",
      "Staff Pick .5g - Nova Farms Mission Brookline\n",
      "D95 (Hybrid) - Shatter, 0.5g $21.00 .5g - NETA\n",
      "Dread Bread (Sativa) - Kief, 1g $21.00 1g - NETA\n",
      "Hybrid Blend (Hybrid) - Kief, 1g $21.00 1g - NETA\n",
      "Indica Blend (Indica) - Kief, 1g $21.00 1g - NETA\n",
      "Maui Wowie (Sativa) - Shatter, 0.5g $21.00 .5g - NETA\n",
      "Milkbone (Hybrid) - Kief, 1g $21.00 1g - NETA\n",
      "Sativa Blend (Sativa) - Kief, 1g $21.00 1g - NETA\n",
      "1:1 (CBD : THC) - Distillate Twistspenser, 0.5g $35.00 .5g - NETA\n",
      "Black Lime (Hybrid-Indica) Distillate Twistspenser - 0.5g $35.00 .5g - NETA\n",
      "Northern Lights (Indica) - Distillate Twistspenser, 0.5g $35.00 .5g - NETA\n",
      "SFV OG (Hybrid) - Distillate Dablicator, 0.5g $35.00 .5g - NETA\n",
      "Sour Diesel (Sativa) - Distillate Dablicator, 0.5g $35.00 .5g - NETA\n",
      "Zkittlez (Indica) - Distillate Dablicator, 0.5g $35.00 .5g - NETA\n",
      "Animal Zkittlez (Hybrid) - Shatter, 1g $42.00 1g - NETA\n",
      "Flo (Hybrid) - Shatter, 1g $42.00 1g - NETA\n",
      "Modified Punch (Indica) - Shatter, 1g $42.00 1g - NETA\n",
      "Triple OG (Indica) - Shatter, 1g $42.00 1g - NETA\n",
      "Deadhead OG (Hybrid-Indica) - Shatter, 1g $45.50 1g - NETA\n",
      "Moose and Lobsta (Hybrid-Sativa) - Live Bubble Hash, 0.5g $49.00 .5g - NETA\n",
      "Hybrid Blend (Hybrid) - Full Spectrum Oil, 1g $52.50 1g - NETA\n",
      "Indica Blend (Indica) - Full Spectrum Oil, 1g $52.50 1g - NETA\n",
      "Sativa Blend (Sativa) - Full Spectrum Oil, 1g $52.50 1g - NETA\n",
      "1:1 (CBD : THC) - Distillate Twistspenser, 1g $66.50 1g - NETA\n",
      "SFV OG (Hybrid) - Distillate Dablicator, 1g $66.50 1g - NETA\n",
      "Sour Diesel (Sativa) - Distillate Dablicator, 1g $66.50 1g - NETA\n",
      "Sunset Sherbert (Hybrid-Indica) - Distillate Twistspenser, 1g $66.50 1g - NETA\n",
      "Albarino - Live Rosin Cold Cure 1g .5g MedMen\n"
     ]
    }
   ],
   "source": [
    "p = products\n",
    "\n",
    "print(len(p))\n",
    "\n",
    "for pr in p:\n",
    "    if pr.discount != \"na\":\n",
    "        print(pr.name, pr.price, pr.weight, pr.dispo)"
   ]
  }
 ],
 "metadata": {
  "kernelspec": {
   "display_name": "Python 3.10.7 64-bit (microsoft store)",
   "language": "python",
   "name": "python3"
  },
  "language_info": {
   "codemirror_mode": {
    "name": "ipython",
    "version": 3
   },
   "file_extension": ".py",
   "mimetype": "text/x-python",
   "name": "python",
   "nbconvert_exporter": "python",
   "pygments_lexer": "ipython3",
   "version": "3.10.7"
  },
  "orig_nbformat": 4,
  "vscode": {
   "interpreter": {
    "hash": "5896eaaea9cfda5f2dfd8f6cd191f6f35a93afed143d79e2a6afd278becd1866"
   }
  }
 },
 "nbformat": 4,
 "nbformat_minor": 2
}
